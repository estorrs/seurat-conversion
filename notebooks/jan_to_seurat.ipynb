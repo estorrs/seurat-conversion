{
 "cells": [
  {
   "cell_type": "code",
   "execution_count": 1,
   "id": "71aefcca",
   "metadata": {},
   "outputs": [
    {
     "name": "stderr",
     "output_type": "stream",
     "text": [
      "The legacy packages maptools, rgdal, and rgeos, underpinning this package\n",
      "will retire shortly. Please refer to R-spatial evolution reports on\n",
      "https://r-spatial.org/r/2023/05/15/evolution4.html for details.\n",
      "This package is now running under evolution status 0 \n",
      "\n",
      "Attaching SeuratObject\n",
      "\n",
      "Registered S3 method overwritten by 'SeuratDisk':\n",
      "  method            from  \n",
      "  as.sparse.H5Group Seurat\n",
      "\n"
     ]
    }
   ],
   "source": [
    "library(Seurat)\n",
    "library(SeuratDisk)"
   ]
  },
  {
   "cell_type": "code",
   "execution_count": 3,
   "id": "cf94b25f",
   "metadata": {},
   "outputs": [
    {
     "name": "stderr",
     "output_type": "stream",
     "text": [
      "Validating h5Seurat file\n",
      "\n",
      "Warning message:\n",
      "“Feature names cannot have underscores ('_'), replacing with dashes ('-')”\n",
      "Initializing RNA with data\n",
      "\n",
      "Adding counts for RNA\n",
      "\n",
      "Adding feature-level metadata for RNA\n",
      "\n",
      "Adding reduction pca\n",
      "\n",
      "Adding cell embeddings for pca\n",
      "\n",
      "Adding miscellaneous information for pca\n",
      "\n",
      "Adding reduction pca_harmony\n",
      "\n",
      "Adding cell embeddings for pca_harmony\n",
      "\n",
      "Adding miscellaneous information for pca_harmony\n",
      "\n",
      "Warning message:\n",
      "“Cannot add objects with duplicate keys (offending key: PC_), setting key to 'pca_harmony_'”\n",
      "Adding reduction umap\n",
      "\n",
      "Adding cell embeddings for umap\n",
      "\n",
      "Adding miscellaneous information for umap\n",
      "\n",
      "Adding command information\n",
      "\n",
      "Adding tool-specific results\n",
      "\n"
     ]
    },
    {
     "data": {
      "text/plain": [
       "An object of class Seurat \n",
       "34985 features across 196868 samples within 1 assay \n",
       "Active assay: RNA (34985 features, 0 variable features)\n",
       " 3 dimensional reductions calculated: pca, pca_harmony, umap"
      ]
     },
     "metadata": {},
     "output_type": "display_data"
    }
   ],
   "source": [
    "# Convert(\"/diskmnt/Projects/Users/estorrs/single-cell-pdac/data/single_cell/data_sharing/jan/all.h5ad\",\n",
    "#         dest = \"h5seurat\", overwrite = TRUE)\n",
    "obj <- LoadH5Seurat(\n",
    "    \"/diskmnt/Projects/Users/estorrs/single-cell-pdac/data/single_cell/data_sharing/jan/all.h5seurat\",\n",
    "    meta.data = FALSE, misc = FALSE)\n",
    "obj"
   ]
  },
  {
   "cell_type": "code",
   "execution_count": 10,
   "id": "ffddb13d",
   "metadata": {},
   "outputs": [
    {
     "data": {
      "text/html": [
       "<table class=\"dataframe\">\n",
       "<caption>A data.frame: 6 × 8</caption>\n",
       "<thead>\n",
       "\t<tr><th></th><th scope=col>cell_id</th><th scope=col>sample_id</th><th scope=col>dataset</th><th scope=col>tissue_type</th><th scope=col>cell_type</th><th scope=col>cell_type_specific</th><th scope=col>filtered</th><th scope=col>orig_id</th></tr>\n",
       "\t<tr><th></th><th scope=col>&lt;chr&gt;</th><th scope=col>&lt;chr&gt;</th><th scope=col>&lt;chr&gt;</th><th scope=col>&lt;chr&gt;</th><th scope=col>&lt;chr&gt;</th><th scope=col>&lt;chr&gt;</th><th scope=col>&lt;chr&gt;</th><th scope=col>&lt;chr&gt;</th></tr>\n",
       "</thead>\n",
       "<tbody>\n",
       "\t<tr><th scope=row>HT047P1_AAACCTGAGACCTAGG-1</th><td>HT047P1_AAACCTGAGACCTAGG-1</td><td>HT047P1</td><td>htan_surgical</td><td>tumor_primary</td><td>NK/T cell</td><td>NK                   </td><td>False</td><td>htan01_AAACCTGAGACCTAGG-1</td></tr>\n",
       "\t<tr><th scope=row>HT047P1_AAACCTGAGTGCGTGA-1</th><td>HT047P1_AAACCTGAGTGCGTGA-1</td><td>HT047P1</td><td>htan_surgical</td><td>tumor_primary</td><td>Malignant</td><td>Malignant - Classical</td><td>False</td><td>htan01_AAACCTGAGTGCGTGA-1</td></tr>\n",
       "\t<tr><th scope=row>HT047P1_AAACCTGCATCCCACT-1</th><td>HT047P1_AAACCTGCATCCCACT-1</td><td>HT047P1</td><td>htan_surgical</td><td>tumor_primary</td><td>NK/T cell</td><td>Treg                 </td><td>False</td><td>htan01_AAACCTGCATCCCACT-1</td></tr>\n",
       "\t<tr><th scope=row>HT047P1_AAACCTGGTCATGCAT-1</th><td>HT047P1_AAACCTGGTCATGCAT-1</td><td>HT047P1</td><td>htan_surgical</td><td>tumor_primary</td><td>B cell   </td><td>B cell               </td><td>False</td><td>htan01_AAACCTGGTCATGCAT-1</td></tr>\n",
       "\t<tr><th scope=row>HT047P1_AAACCTGTCCGGGTGT-1</th><td>HT047P1_AAACCTGTCCGGGTGT-1</td><td>HT047P1</td><td>htan_surgical</td><td>tumor_primary</td><td>NK/T cell</td><td>CD8 T cell           </td><td>False</td><td>htan01_AAACCTGTCCGGGTGT-1</td></tr>\n",
       "\t<tr><th scope=row>HT047P1_AAACGGGAGACAATAC-1</th><td>HT047P1_AAACGGGAGACAATAC-1</td><td>HT047P1</td><td>htan_surgical</td><td>tumor_primary</td><td>Malignant</td><td>Malignant - Classical</td><td>False</td><td>htan01_AAACGGGAGACAATAC-1</td></tr>\n",
       "</tbody>\n",
       "</table>\n"
      ],
      "text/latex": [
       "A data.frame: 6 × 8\n",
       "\\begin{tabular}{r|llllllll}\n",
       "  & cell\\_id & sample\\_id & dataset & tissue\\_type & cell\\_type & cell\\_type\\_specific & filtered & orig\\_id\\\\\n",
       "  & <chr> & <chr> & <chr> & <chr> & <chr> & <chr> & <chr> & <chr>\\\\\n",
       "\\hline\n",
       "\tHT047P1\\_AAACCTGAGACCTAGG-1 & HT047P1\\_AAACCTGAGACCTAGG-1 & HT047P1 & htan\\_surgical & tumor\\_primary & NK/T cell & NK                    & False & htan01\\_AAACCTGAGACCTAGG-1\\\\\n",
       "\tHT047P1\\_AAACCTGAGTGCGTGA-1 & HT047P1\\_AAACCTGAGTGCGTGA-1 & HT047P1 & htan\\_surgical & tumor\\_primary & Malignant & Malignant - Classical & False & htan01\\_AAACCTGAGTGCGTGA-1\\\\\n",
       "\tHT047P1\\_AAACCTGCATCCCACT-1 & HT047P1\\_AAACCTGCATCCCACT-1 & HT047P1 & htan\\_surgical & tumor\\_primary & NK/T cell & Treg                  & False & htan01\\_AAACCTGCATCCCACT-1\\\\\n",
       "\tHT047P1\\_AAACCTGGTCATGCAT-1 & HT047P1\\_AAACCTGGTCATGCAT-1 & HT047P1 & htan\\_surgical & tumor\\_primary & B cell    & B cell                & False & htan01\\_AAACCTGGTCATGCAT-1\\\\\n",
       "\tHT047P1\\_AAACCTGTCCGGGTGT-1 & HT047P1\\_AAACCTGTCCGGGTGT-1 & HT047P1 & htan\\_surgical & tumor\\_primary & NK/T cell & CD8 T cell            & False & htan01\\_AAACCTGTCCGGGTGT-1\\\\\n",
       "\tHT047P1\\_AAACGGGAGACAATAC-1 & HT047P1\\_AAACGGGAGACAATAC-1 & HT047P1 & htan\\_surgical & tumor\\_primary & Malignant & Malignant - Classical & False & htan01\\_AAACGGGAGACAATAC-1\\\\\n",
       "\\end{tabular}\n"
      ],
      "text/markdown": [
       "\n",
       "A data.frame: 6 × 8\n",
       "\n",
       "| <!--/--> | cell_id &lt;chr&gt; | sample_id &lt;chr&gt; | dataset &lt;chr&gt; | tissue_type &lt;chr&gt; | cell_type &lt;chr&gt; | cell_type_specific &lt;chr&gt; | filtered &lt;chr&gt; | orig_id &lt;chr&gt; |\n",
       "|---|---|---|---|---|---|---|---|---|\n",
       "| HT047P1_AAACCTGAGACCTAGG-1 | HT047P1_AAACCTGAGACCTAGG-1 | HT047P1 | htan_surgical | tumor_primary | NK/T cell | NK                    | False | htan01_AAACCTGAGACCTAGG-1 |\n",
       "| HT047P1_AAACCTGAGTGCGTGA-1 | HT047P1_AAACCTGAGTGCGTGA-1 | HT047P1 | htan_surgical | tumor_primary | Malignant | Malignant - Classical | False | htan01_AAACCTGAGTGCGTGA-1 |\n",
       "| HT047P1_AAACCTGCATCCCACT-1 | HT047P1_AAACCTGCATCCCACT-1 | HT047P1 | htan_surgical | tumor_primary | NK/T cell | Treg                  | False | htan01_AAACCTGCATCCCACT-1 |\n",
       "| HT047P1_AAACCTGGTCATGCAT-1 | HT047P1_AAACCTGGTCATGCAT-1 | HT047P1 | htan_surgical | tumor_primary | B cell    | B cell                | False | htan01_AAACCTGGTCATGCAT-1 |\n",
       "| HT047P1_AAACCTGTCCGGGTGT-1 | HT047P1_AAACCTGTCCGGGTGT-1 | HT047P1 | htan_surgical | tumor_primary | NK/T cell | CD8 T cell            | False | htan01_AAACCTGTCCGGGTGT-1 |\n",
       "| HT047P1_AAACGGGAGACAATAC-1 | HT047P1_AAACGGGAGACAATAC-1 | HT047P1 | htan_surgical | tumor_primary | Malignant | Malignant - Classical | False | htan01_AAACGGGAGACAATAC-1 |\n",
       "\n"
      ],
      "text/plain": [
       "                           cell_id                    sample_id dataset      \n",
       "HT047P1_AAACCTGAGACCTAGG-1 HT047P1_AAACCTGAGACCTAGG-1 HT047P1   htan_surgical\n",
       "HT047P1_AAACCTGAGTGCGTGA-1 HT047P1_AAACCTGAGTGCGTGA-1 HT047P1   htan_surgical\n",
       "HT047P1_AAACCTGCATCCCACT-1 HT047P1_AAACCTGCATCCCACT-1 HT047P1   htan_surgical\n",
       "HT047P1_AAACCTGGTCATGCAT-1 HT047P1_AAACCTGGTCATGCAT-1 HT047P1   htan_surgical\n",
       "HT047P1_AAACCTGTCCGGGTGT-1 HT047P1_AAACCTGTCCGGGTGT-1 HT047P1   htan_surgical\n",
       "HT047P1_AAACGGGAGACAATAC-1 HT047P1_AAACGGGAGACAATAC-1 HT047P1   htan_surgical\n",
       "                           tissue_type   cell_type cell_type_specific   \n",
       "HT047P1_AAACCTGAGACCTAGG-1 tumor_primary NK/T cell NK                   \n",
       "HT047P1_AAACCTGAGTGCGTGA-1 tumor_primary Malignant Malignant - Classical\n",
       "HT047P1_AAACCTGCATCCCACT-1 tumor_primary NK/T cell Treg                 \n",
       "HT047P1_AAACCTGGTCATGCAT-1 tumor_primary B cell    B cell               \n",
       "HT047P1_AAACCTGTCCGGGTGT-1 tumor_primary NK/T cell CD8 T cell           \n",
       "HT047P1_AAACGGGAGACAATAC-1 tumor_primary Malignant Malignant - Classical\n",
       "                           filtered orig_id                  \n",
       "HT047P1_AAACCTGAGACCTAGG-1 False    htan01_AAACCTGAGACCTAGG-1\n",
       "HT047P1_AAACCTGAGTGCGTGA-1 False    htan01_AAACCTGAGTGCGTGA-1\n",
       "HT047P1_AAACCTGCATCCCACT-1 False    htan01_AAACCTGCATCCCACT-1\n",
       "HT047P1_AAACCTGGTCATGCAT-1 False    htan01_AAACCTGGTCATGCAT-1\n",
       "HT047P1_AAACCTGTCCGGGTGT-1 False    htan01_AAACCTGTCCGGGTGT-1\n",
       "HT047P1_AAACGGGAGACAATAC-1 False    htan01_AAACGGGAGACAATAC-1"
      ]
     },
     "metadata": {},
     "output_type": "display_data"
    }
   ],
   "source": [
    "meta <- read.csv(\"/diskmnt/Projects/Users/estorrs/single-cell-pdac/data/single_cell/data_sharing/jan/metadata.txt\",\n",
    "                 sep = \"\\t\")\n",
    "rownames(meta) = meta$cell_id\n",
    "head(meta)"
   ]
  },
  {
   "cell_type": "code",
   "execution_count": 7,
   "id": "e06e9eb0",
   "metadata": {},
   "outputs": [
    {
     "data": {
      "text/html": [
       "<style>\n",
       ".list-inline {list-style: none; margin:0; padding: 0}\n",
       ".list-inline>li {display: inline-block}\n",
       ".list-inline>li:not(:last-child)::after {content: \"\\00b7\"; padding: 0 .5ex}\n",
       "</style>\n",
       "<ol class=list-inline><li>'cell_id'</li><li>'sample_id'</li><li>'dataset'</li><li>'tissue_type'</li><li>'cell_type'</li><li>'cell_type_specific'</li><li>'filtered'</li><li>'orig_id'</li></ol>\n"
      ],
      "text/latex": [
       "\\begin{enumerate*}\n",
       "\\item 'cell\\_id'\n",
       "\\item 'sample\\_id'\n",
       "\\item 'dataset'\n",
       "\\item 'tissue\\_type'\n",
       "\\item 'cell\\_type'\n",
       "\\item 'cell\\_type\\_specific'\n",
       "\\item 'filtered'\n",
       "\\item 'orig\\_id'\n",
       "\\end{enumerate*}\n"
      ],
      "text/markdown": [
       "1. 'cell_id'\n",
       "2. 'sample_id'\n",
       "3. 'dataset'\n",
       "4. 'tissue_type'\n",
       "5. 'cell_type'\n",
       "6. 'cell_type_specific'\n",
       "7. 'filtered'\n",
       "8. 'orig_id'\n",
       "\n",
       "\n"
      ],
      "text/plain": [
       "[1] \"cell_id\"            \"sample_id\"          \"dataset\"           \n",
       "[4] \"tissue_type\"        \"cell_type\"          \"cell_type_specific\"\n",
       "[7] \"filtered\"           \"orig_id\"           "
      ]
     },
     "metadata": {},
     "output_type": "display_data"
    }
   ],
   "source": [
    "colnames(meta)"
   ]
  },
  {
   "cell_type": "code",
   "execution_count": 11,
   "id": "702a7d1e",
   "metadata": {},
   "outputs": [],
   "source": [
    "obj = AddMetaData(object = obj, metadata = meta)\n",
    "\n"
   ]
  },
  {
   "cell_type": "code",
   "execution_count": 12,
   "id": "f38e4155",
   "metadata": {},
   "outputs": [
    {
     "data": {
      "text/html": [
       "<table class=\"dataframe\">\n",
       "<caption>A data.frame: 6 × 8</caption>\n",
       "<thead>\n",
       "\t<tr><th></th><th scope=col>cell_id</th><th scope=col>sample_id</th><th scope=col>dataset</th><th scope=col>tissue_type</th><th scope=col>cell_type</th><th scope=col>cell_type_specific</th><th scope=col>filtered</th><th scope=col>orig_id</th></tr>\n",
       "\t<tr><th></th><th scope=col>&lt;chr&gt;</th><th scope=col>&lt;chr&gt;</th><th scope=col>&lt;chr&gt;</th><th scope=col>&lt;chr&gt;</th><th scope=col>&lt;chr&gt;</th><th scope=col>&lt;chr&gt;</th><th scope=col>&lt;chr&gt;</th><th scope=col>&lt;chr&gt;</th></tr>\n",
       "</thead>\n",
       "<tbody>\n",
       "\t<tr><th scope=row>HT047P1_AAACCTGAGACCTAGG-1</th><td>HT047P1_AAACCTGAGACCTAGG-1</td><td>HT047P1</td><td>htan_surgical</td><td>tumor_primary</td><td>NK/T cell</td><td>NK                   </td><td>False</td><td>htan01_AAACCTGAGACCTAGG-1</td></tr>\n",
       "\t<tr><th scope=row>HT047P1_AAACCTGAGTGCGTGA-1</th><td>HT047P1_AAACCTGAGTGCGTGA-1</td><td>HT047P1</td><td>htan_surgical</td><td>tumor_primary</td><td>Malignant</td><td>Malignant - Classical</td><td>False</td><td>htan01_AAACCTGAGTGCGTGA-1</td></tr>\n",
       "\t<tr><th scope=row>HT047P1_AAACCTGCATCCCACT-1</th><td>HT047P1_AAACCTGCATCCCACT-1</td><td>HT047P1</td><td>htan_surgical</td><td>tumor_primary</td><td>NK/T cell</td><td>Treg                 </td><td>False</td><td>htan01_AAACCTGCATCCCACT-1</td></tr>\n",
       "\t<tr><th scope=row>HT047P1_AAACCTGGTCATGCAT-1</th><td>HT047P1_AAACCTGGTCATGCAT-1</td><td>HT047P1</td><td>htan_surgical</td><td>tumor_primary</td><td>B cell   </td><td>B cell               </td><td>False</td><td>htan01_AAACCTGGTCATGCAT-1</td></tr>\n",
       "\t<tr><th scope=row>HT047P1_AAACCTGTCCGGGTGT-1</th><td>HT047P1_AAACCTGTCCGGGTGT-1</td><td>HT047P1</td><td>htan_surgical</td><td>tumor_primary</td><td>NK/T cell</td><td>CD8 T cell           </td><td>False</td><td>htan01_AAACCTGTCCGGGTGT-1</td></tr>\n",
       "\t<tr><th scope=row>HT047P1_AAACGGGAGACAATAC-1</th><td>HT047P1_AAACGGGAGACAATAC-1</td><td>HT047P1</td><td>htan_surgical</td><td>tumor_primary</td><td>Malignant</td><td>Malignant - Classical</td><td>False</td><td>htan01_AAACGGGAGACAATAC-1</td></tr>\n",
       "</tbody>\n",
       "</table>\n"
      ],
      "text/latex": [
       "A data.frame: 6 × 8\n",
       "\\begin{tabular}{r|llllllll}\n",
       "  & cell\\_id & sample\\_id & dataset & tissue\\_type & cell\\_type & cell\\_type\\_specific & filtered & orig\\_id\\\\\n",
       "  & <chr> & <chr> & <chr> & <chr> & <chr> & <chr> & <chr> & <chr>\\\\\n",
       "\\hline\n",
       "\tHT047P1\\_AAACCTGAGACCTAGG-1 & HT047P1\\_AAACCTGAGACCTAGG-1 & HT047P1 & htan\\_surgical & tumor\\_primary & NK/T cell & NK                    & False & htan01\\_AAACCTGAGACCTAGG-1\\\\\n",
       "\tHT047P1\\_AAACCTGAGTGCGTGA-1 & HT047P1\\_AAACCTGAGTGCGTGA-1 & HT047P1 & htan\\_surgical & tumor\\_primary & Malignant & Malignant - Classical & False & htan01\\_AAACCTGAGTGCGTGA-1\\\\\n",
       "\tHT047P1\\_AAACCTGCATCCCACT-1 & HT047P1\\_AAACCTGCATCCCACT-1 & HT047P1 & htan\\_surgical & tumor\\_primary & NK/T cell & Treg                  & False & htan01\\_AAACCTGCATCCCACT-1\\\\\n",
       "\tHT047P1\\_AAACCTGGTCATGCAT-1 & HT047P1\\_AAACCTGGTCATGCAT-1 & HT047P1 & htan\\_surgical & tumor\\_primary & B cell    & B cell                & False & htan01\\_AAACCTGGTCATGCAT-1\\\\\n",
       "\tHT047P1\\_AAACCTGTCCGGGTGT-1 & HT047P1\\_AAACCTGTCCGGGTGT-1 & HT047P1 & htan\\_surgical & tumor\\_primary & NK/T cell & CD8 T cell            & False & htan01\\_AAACCTGTCCGGGTGT-1\\\\\n",
       "\tHT047P1\\_AAACGGGAGACAATAC-1 & HT047P1\\_AAACGGGAGACAATAC-1 & HT047P1 & htan\\_surgical & tumor\\_primary & Malignant & Malignant - Classical & False & htan01\\_AAACGGGAGACAATAC-1\\\\\n",
       "\\end{tabular}\n"
      ],
      "text/markdown": [
       "\n",
       "A data.frame: 6 × 8\n",
       "\n",
       "| <!--/--> | cell_id &lt;chr&gt; | sample_id &lt;chr&gt; | dataset &lt;chr&gt; | tissue_type &lt;chr&gt; | cell_type &lt;chr&gt; | cell_type_specific &lt;chr&gt; | filtered &lt;chr&gt; | orig_id &lt;chr&gt; |\n",
       "|---|---|---|---|---|---|---|---|---|\n",
       "| HT047P1_AAACCTGAGACCTAGG-1 | HT047P1_AAACCTGAGACCTAGG-1 | HT047P1 | htan_surgical | tumor_primary | NK/T cell | NK                    | False | htan01_AAACCTGAGACCTAGG-1 |\n",
       "| HT047P1_AAACCTGAGTGCGTGA-1 | HT047P1_AAACCTGAGTGCGTGA-1 | HT047P1 | htan_surgical | tumor_primary | Malignant | Malignant - Classical | False | htan01_AAACCTGAGTGCGTGA-1 |\n",
       "| HT047P1_AAACCTGCATCCCACT-1 | HT047P1_AAACCTGCATCCCACT-1 | HT047P1 | htan_surgical | tumor_primary | NK/T cell | Treg                  | False | htan01_AAACCTGCATCCCACT-1 |\n",
       "| HT047P1_AAACCTGGTCATGCAT-1 | HT047P1_AAACCTGGTCATGCAT-1 | HT047P1 | htan_surgical | tumor_primary | B cell    | B cell                | False | htan01_AAACCTGGTCATGCAT-1 |\n",
       "| HT047P1_AAACCTGTCCGGGTGT-1 | HT047P1_AAACCTGTCCGGGTGT-1 | HT047P1 | htan_surgical | tumor_primary | NK/T cell | CD8 T cell            | False | htan01_AAACCTGTCCGGGTGT-1 |\n",
       "| HT047P1_AAACGGGAGACAATAC-1 | HT047P1_AAACGGGAGACAATAC-1 | HT047P1 | htan_surgical | tumor_primary | Malignant | Malignant - Classical | False | htan01_AAACGGGAGACAATAC-1 |\n",
       "\n"
      ],
      "text/plain": [
       "                           cell_id                    sample_id dataset      \n",
       "HT047P1_AAACCTGAGACCTAGG-1 HT047P1_AAACCTGAGACCTAGG-1 HT047P1   htan_surgical\n",
       "HT047P1_AAACCTGAGTGCGTGA-1 HT047P1_AAACCTGAGTGCGTGA-1 HT047P1   htan_surgical\n",
       "HT047P1_AAACCTGCATCCCACT-1 HT047P1_AAACCTGCATCCCACT-1 HT047P1   htan_surgical\n",
       "HT047P1_AAACCTGGTCATGCAT-1 HT047P1_AAACCTGGTCATGCAT-1 HT047P1   htan_surgical\n",
       "HT047P1_AAACCTGTCCGGGTGT-1 HT047P1_AAACCTGTCCGGGTGT-1 HT047P1   htan_surgical\n",
       "HT047P1_AAACGGGAGACAATAC-1 HT047P1_AAACGGGAGACAATAC-1 HT047P1   htan_surgical\n",
       "                           tissue_type   cell_type cell_type_specific   \n",
       "HT047P1_AAACCTGAGACCTAGG-1 tumor_primary NK/T cell NK                   \n",
       "HT047P1_AAACCTGAGTGCGTGA-1 tumor_primary Malignant Malignant - Classical\n",
       "HT047P1_AAACCTGCATCCCACT-1 tumor_primary NK/T cell Treg                 \n",
       "HT047P1_AAACCTGGTCATGCAT-1 tumor_primary B cell    B cell               \n",
       "HT047P1_AAACCTGTCCGGGTGT-1 tumor_primary NK/T cell CD8 T cell           \n",
       "HT047P1_AAACGGGAGACAATAC-1 tumor_primary Malignant Malignant - Classical\n",
       "                           filtered orig_id                  \n",
       "HT047P1_AAACCTGAGACCTAGG-1 False    htan01_AAACCTGAGACCTAGG-1\n",
       "HT047P1_AAACCTGAGTGCGTGA-1 False    htan01_AAACCTGAGTGCGTGA-1\n",
       "HT047P1_AAACCTGCATCCCACT-1 False    htan01_AAACCTGCATCCCACT-1\n",
       "HT047P1_AAACCTGGTCATGCAT-1 False    htan01_AAACCTGGTCATGCAT-1\n",
       "HT047P1_AAACCTGTCCGGGTGT-1 False    htan01_AAACCTGTCCGGGTGT-1\n",
       "HT047P1_AAACGGGAGACAATAC-1 False    htan01_AAACGGGAGACAATAC-1"
      ]
     },
     "metadata": {},
     "output_type": "display_data"
    }
   ],
   "source": [
    "head(obj@meta.data)"
   ]
  },
  {
   "cell_type": "code",
   "execution_count": 14,
   "id": "90c1c1b8",
   "metadata": {},
   "outputs": [],
   "source": [
    "saveRDS(obj, \"/diskmnt/Projects/Users/estorrs/single-cell-pdac/data/single_cell/data_sharing/jan/all.rds\",\n",
    "       )"
   ]
  },
  {
   "cell_type": "code",
   "execution_count": null,
   "id": "f5fa13c0",
   "metadata": {},
   "outputs": [],
   "source": []
  }
 ],
 "metadata": {
  "kernelspec": {
   "display_name": "R",
   "language": "R",
   "name": "ir"
  },
  "language_info": {
   "codemirror_mode": "r",
   "file_extension": ".r",
   "mimetype": "text/x-r-source",
   "name": "R",
   "pygments_lexer": "r",
   "version": "4.2.0"
  }
 },
 "nbformat": 4,
 "nbformat_minor": 5
}
