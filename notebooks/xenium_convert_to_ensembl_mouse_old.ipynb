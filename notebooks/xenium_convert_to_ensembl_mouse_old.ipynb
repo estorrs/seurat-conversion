{
 "cells": [
  {
   "cell_type": "code",
   "execution_count": 13,
   "id": "8d31148b",
   "metadata": {},
   "outputs": [],
   "source": [
    "import os\n",
    "import re"
   ]
  },
  {
   "cell_type": "code",
   "execution_count": 19,
   "id": "3a6668b2",
   "metadata": {},
   "outputs": [],
   "source": [
    "import mygene as mg\n",
    "import pandas as pd\n",
    "import scanpy as sc"
   ]
  },
  {
   "cell_type": "code",
   "execution_count": 20,
   "id": "82fd5e41",
   "metadata": {},
   "outputs": [],
   "source": [
    "mg = mygene.MyGeneInfo()"
   ]
  },
  {
   "cell_type": "code",
   "execution_count": 21,
   "id": "0149217b",
   "metadata": {},
   "outputs": [],
   "source": [
    "def get_gene_to_ensembl(genes):\n",
    "    gene_to_ensembl = {}\n",
    "    response = mg.querymany(genes, scopes=['symbol'], species='mouse', fields='genomic_pos.ensemblgene')\n",
    "    for item in response:\n",
    "        gene_to_ensembl[item['query']] = item['genomic_pos']['ensemblgene']\n",
    "    return gene_to_ensembl"
   ]
  },
  {
   "cell_type": "code",
   "execution_count": 22,
   "id": "cc16598d",
   "metadata": {},
   "outputs": [
    {
     "data": {
      "text/plain": [
       "['/diskmnt/Projects/Users/estorrs/sandbox/xenium_single_cell_mouse/pkd_downsampled.h5ad',\n",
       " '/diskmnt/Projects/Users/estorrs/sandbox/xenium_single_cell_mouse/brca_downsampled.h5ad',\n",
       " '/diskmnt/Projects/Users/estorrs/sandbox/xenium_single_cell_mouse/ccrcc_p8r_downsampled.h5ad',\n",
       " '/diskmnt/Projects/Users/estorrs/sandbox/xenium_single_cell_mouse/ccrcc_p8c_downsampled.h5ad',\n",
       " '/diskmnt/Projects/Users/estorrs/sandbox/xenium_single_cell_mouse/liver_downsampled.h5ad',\n",
       " '/diskmnt/Projects/Users/estorrs/sandbox/xenium_single_cell_mouse/kidney_downsampled.h5ad']"
      ]
     },
     "execution_count": 22,
     "metadata": {},
     "output_type": "execute_result"
    }
   ],
   "source": [
    "directory = '/diskmnt/Projects/Users/estorrs/sandbox/xenium_single_cell_mouse/'\n",
    "fps = [os.path.join(directory, fp) for fp in os.listdir(directory)]\n",
    "fps = [fp for fp in fps if 'downsampled' in fp]\n",
    "fps"
   ]
  },
  {
   "cell_type": "code",
   "execution_count": 23,
   "id": "540630b7",
   "metadata": {},
   "outputs": [],
   "source": [
    "def get_ensembl(g, gene_to_ensembl):\n",
    "    if g in gene_to_ensembl:\n",
    "        return gene_to_ensembl[g]\n",
    "    elif g.split('.')[0] in gene_to_ensembl:\n",
    "        return gene_to_ensembl[g.split('.')[0]]\n",
    "    elif g.split('/')[0] in gene_to_ensembl:\n",
    "        return gene_to_ensembl[g.split('/')[0]]\n",
    "    elif 'ENSG' in g:\n",
    "        return g\n",
    "    raise RuntimeError(g)"
   ]
  },
  {
   "cell_type": "code",
   "execution_count": 24,
   "id": "627bae29",
   "metadata": {},
   "outputs": [
    {
     "name": "stdout",
     "output_type": "stream",
     "text": [
      "/diskmnt/Projects/Users/estorrs/sandbox/xenium_single_cell_mouse/pkd_downsampled.h5ad /diskmnt/Projects/Users/estorrs/sandbox/xenium_single_cell_mouse/bundle/pkd_downsampled.h5ad\n"
     ]
    },
    {
     "name": "stderr",
     "output_type": "stream",
     "text": [
      "INFO:biothings.client:querying 1-1000...\n",
      "INFO:biothings.client:done.\n",
      "INFO:biothings.client:querying 1001-2000...\n",
      "INFO:biothings.client:done.\n",
      "INFO:biothings.client:querying 2001-3000...\n",
      "INFO:biothings.client:done.\n",
      "INFO:biothings.client:querying 3001-4000...\n",
      "INFO:biothings.client:done.\n",
      "INFO:biothings.client:querying 4001-5000...\n",
      "INFO:biothings.client:done.\n",
      "INFO:biothings.client:querying 5001-6000...\n",
      "INFO:biothings.client:done.\n",
      "INFO:biothings.client:querying 6001-7000...\n",
      "INFO:biothings.client:done.\n",
      "INFO:biothings.client:querying 7001-8000...\n",
      "INFO:biothings.client:done.\n",
      "INFO:biothings.client:querying 8001-9000...\n",
      "INFO:biothings.client:done.\n",
      "INFO:biothings.client:querying 9001-10000...\n",
      "INFO:biothings.client:done.\n",
      "INFO:biothings.client:querying 10001-11000...\n",
      "INFO:biothings.client:done.\n",
      "INFO:biothings.client:querying 11001-12000...\n",
      "INFO:biothings.client:done.\n",
      "INFO:biothings.client:querying 12001-13000...\n",
      "INFO:biothings.client:done.\n",
      "INFO:biothings.client:querying 13001-14000...\n",
      "INFO:biothings.client:done.\n",
      "INFO:biothings.client:querying 14001-15000...\n",
      "INFO:biothings.client:done.\n",
      "INFO:biothings.client:querying 15001-16000...\n",
      "INFO:biothings.client:done.\n",
      "INFO:biothings.client:querying 16001-17000...\n",
      "INFO:biothings.client:done.\n",
      "INFO:biothings.client:querying 17001-18000...\n",
      "INFO:biothings.client:done.\n",
      "INFO:biothings.client:querying 18001-19000...\n",
      "INFO:biothings.client:done.\n",
      "INFO:biothings.client:querying 19001-20000...\n",
      "INFO:biothings.client:done.\n",
      "INFO:biothings.client:querying 20001-21000...\n",
      "INFO:biothings.client:done.\n",
      "INFO:biothings.client:querying 21001-22000...\n",
      "INFO:biothings.client:done.\n",
      "INFO:biothings.client:querying 22001-23000...\n",
      "INFO:biothings.client:done.\n",
      "INFO:biothings.client:querying 23001-24000...\n",
      "INFO:biothings.client:done.\n",
      "INFO:biothings.client:querying 24001-24430...\n",
      "INFO:biothings.client:done.\n",
      "INFO:biothings.client:Finished.\n",
      "WARNING:biothings.client:2412 input query terms found dup hits:\t[('Gm1992', 2), ('Gm37323', 2), ('4732440D04Rik', 2), ('Gm26901', 2), ('Gm30414', 2), ('1700034P13Ri\n",
      "WARNING:biothings.client:1716 input query terms found no hit:\t['3110035E14Rik', 'Gm28653', '2010300C02Rik', '1500015O10Rik', 'Gm8251', 'Kdelc1', 'Fam126b', 'Als2c\n",
      "INFO:biothings.client:Pass \"returnall=True\" to return complete lists of duplicate or missing query terms.\n"
     ]
    },
    {
     "ename": "KeyError",
     "evalue": "'genomic_pos'",
     "output_type": "error",
     "traceback": [
      "\u001b[0;31m---------------------------------------------------------------------------\u001b[0m",
      "\u001b[0;31mKeyError\u001b[0m                                  Traceback (most recent call last)",
      "Cell \u001b[0;32mIn[24], line 8\u001b[0m\n\u001b[1;32m      5\u001b[0m \u001b[38;5;28mprint\u001b[39m(fp, new_fp)\n\u001b[1;32m      7\u001b[0m a \u001b[38;5;241m=\u001b[39m sc\u001b[38;5;241m.\u001b[39mread_h5ad(fp)\n\u001b[0;32m----> 8\u001b[0m gene_to_ensembl \u001b[38;5;241m=\u001b[39m \u001b[43mget_gene_to_ensembl\u001b[49m\u001b[43m(\u001b[49m\u001b[43ma\u001b[49m\u001b[38;5;241;43m.\u001b[39;49m\u001b[43mvar\u001b[49m\u001b[38;5;241;43m.\u001b[39;49m\u001b[43mindex\u001b[49m\u001b[38;5;241;43m.\u001b[39;49m\u001b[43mto_list\u001b[49m\u001b[43m(\u001b[49m\u001b[43m)\u001b[49m\u001b[43m)\u001b[49m\n\u001b[1;32m      9\u001b[0m a\u001b[38;5;241m.\u001b[39mvar[\u001b[38;5;124m'\u001b[39m\u001b[38;5;124mfeatures\u001b[39m\u001b[38;5;124m'\u001b[39m] \u001b[38;5;241m=\u001b[39m [get_ensembl(g) \u001b[38;5;28;01mfor\u001b[39;00m g \u001b[38;5;129;01min\u001b[39;00m a\u001b[38;5;241m.\u001b[39mvar\u001b[38;5;241m.\u001b[39mindex]\n\u001b[1;32m     10\u001b[0m \u001b[38;5;28mprint\u001b[39m(a\u001b[38;5;241m.\u001b[39mshape, a\u001b[38;5;241m.\u001b[39mvar\u001b[38;5;241m.\u001b[39mhead(\u001b[38;5;241m5\u001b[39m))\n",
      "Cell \u001b[0;32mIn[21], line 5\u001b[0m, in \u001b[0;36mget_gene_to_ensembl\u001b[0;34m(genes)\u001b[0m\n\u001b[1;32m      3\u001b[0m response \u001b[38;5;241m=\u001b[39m mg\u001b[38;5;241m.\u001b[39mquerymany(genes, scopes\u001b[38;5;241m=\u001b[39m[\u001b[38;5;124m'\u001b[39m\u001b[38;5;124msymbol\u001b[39m\u001b[38;5;124m'\u001b[39m], species\u001b[38;5;241m=\u001b[39m\u001b[38;5;124m'\u001b[39m\u001b[38;5;124mmouse\u001b[39m\u001b[38;5;124m'\u001b[39m, fields\u001b[38;5;241m=\u001b[39m\u001b[38;5;124m'\u001b[39m\u001b[38;5;124mgenomic_pos.ensemblgene\u001b[39m\u001b[38;5;124m'\u001b[39m)\n\u001b[1;32m      4\u001b[0m \u001b[38;5;28;01mfor\u001b[39;00m item \u001b[38;5;129;01min\u001b[39;00m response:\n\u001b[0;32m----> 5\u001b[0m     gene_to_ensembl[item[\u001b[38;5;124m'\u001b[39m\u001b[38;5;124mquery\u001b[39m\u001b[38;5;124m'\u001b[39m]] \u001b[38;5;241m=\u001b[39m \u001b[43mitem\u001b[49m\u001b[43m[\u001b[49m\u001b[38;5;124;43m'\u001b[39;49m\u001b[38;5;124;43mgenomic_pos\u001b[39;49m\u001b[38;5;124;43m'\u001b[39;49m\u001b[43m]\u001b[49m[\u001b[38;5;124m'\u001b[39m\u001b[38;5;124mensemblgene\u001b[39m\u001b[38;5;124m'\u001b[39m]\n\u001b[1;32m      6\u001b[0m \u001b[38;5;28;01mreturn\u001b[39;00m gene_to_ensembl\n",
      "\u001b[0;31mKeyError\u001b[0m: 'genomic_pos'"
     ]
    }
   ],
   "source": [
    "for fp in fps:\n",
    "    root = '/'.join(fp.split('/')[:-1])\n",
    "    name = fp.split('/')[-1].replace('.h5ad', '')\n",
    "    new_fp = os.path.join(root, 'bundle', f'{name}.h5ad')\n",
    "    print(fp, new_fp)\n",
    "    \n",
    "    a = sc.read_h5ad(fp)\n",
    "    gene_to_ensembl = get_gene_to_ensembl(a.var.index.to_list())\n",
    "    a.var['features'] = [get_ensembl(g) for g in a.var.index]\n",
    "    print(a.shape, a.var.head(5))\n",
    "    \n",
    "    a.write_h5ad(new_fp)"
   ]
  },
  {
   "cell_type": "code",
   "execution_count": null,
   "id": "43bcd7c9",
   "metadata": {},
   "outputs": [],
   "source": []
  },
  {
   "cell_type": "code",
   "execution_count": null,
   "id": "ef935d17",
   "metadata": {},
   "outputs": [],
   "source": []
  },
  {
   "cell_type": "code",
   "execution_count": null,
   "id": "cd13b4d3",
   "metadata": {},
   "outputs": [],
   "source": []
  },
  {
   "cell_type": "code",
   "execution_count": 62,
   "id": "09e8d608",
   "metadata": {},
   "outputs": [
    {
     "data": {
      "text/plain": [
       "AnnData object with n_obs × n_vars = 11863 × 33694\n",
       "    obs: 'sample_type', 'sample_id', 'xenium_cell_type'\n",
       "    var: 'features'\n",
       "    layers: 'counts'"
      ]
     },
     "execution_count": 62,
     "metadata": {},
     "output_type": "execute_result"
    }
   ],
   "source": [
    "a = sc.read_h5ad('/diskmnt/Projects/Users/estorrs/sandbox/xenium_single_cell/mm_downsampled.h5ad')\n",
    "a\n"
   ]
  },
  {
   "cell_type": "code",
   "execution_count": 63,
   "id": "027367fc",
   "metadata": {},
   "outputs": [
    {
     "data": {
      "text/html": [
       "<div>\n",
       "<style scoped>\n",
       "    .dataframe tbody tr th:only-of-type {\n",
       "        vertical-align: middle;\n",
       "    }\n",
       "\n",
       "    .dataframe tbody tr th {\n",
       "        vertical-align: top;\n",
       "    }\n",
       "\n",
       "    .dataframe thead th {\n",
       "        text-align: right;\n",
       "    }\n",
       "</style>\n",
       "<table border=\"1\" class=\"dataframe\">\n",
       "  <thead>\n",
       "    <tr style=\"text-align: right;\">\n",
       "      <th></th>\n",
       "      <th>features</th>\n",
       "    </tr>\n",
       "  </thead>\n",
       "  <tbody>\n",
       "    <tr>\n",
       "      <th>ENSG00000243485</th>\n",
       "      <td>ENSG00000243485</td>\n",
       "    </tr>\n",
       "    <tr>\n",
       "      <th>ENSG00000237613</th>\n",
       "      <td>ENSG00000237613</td>\n",
       "    </tr>\n",
       "    <tr>\n",
       "      <th>ENSG00000186092</th>\n",
       "      <td>ENSG00000186092</td>\n",
       "    </tr>\n",
       "    <tr>\n",
       "      <th>ENSG00000238009</th>\n",
       "      <td>ENSG00000238009</td>\n",
       "    </tr>\n",
       "    <tr>\n",
       "      <th>ENSG00000239945</th>\n",
       "      <td>ENSG00000239945</td>\n",
       "    </tr>\n",
       "    <tr>\n",
       "      <th>...</th>\n",
       "      <td>...</td>\n",
       "    </tr>\n",
       "    <tr>\n",
       "      <th>ENSG00000277856</th>\n",
       "      <td>ENSG00000277856</td>\n",
       "    </tr>\n",
       "    <tr>\n",
       "      <th>ENSG00000275063</th>\n",
       "      <td>ENSG00000275063</td>\n",
       "    </tr>\n",
       "    <tr>\n",
       "      <th>ENSG00000271254</th>\n",
       "      <td>ENSG00000271254</td>\n",
       "    </tr>\n",
       "    <tr>\n",
       "      <th>ENSG00000277475</th>\n",
       "      <td>ENSG00000277475</td>\n",
       "    </tr>\n",
       "    <tr>\n",
       "      <th>ENSG00000268674</th>\n",
       "      <td>ENSG00000268674</td>\n",
       "    </tr>\n",
       "  </tbody>\n",
       "</table>\n",
       "<p>33694 rows × 1 columns</p>\n",
       "</div>"
      ],
      "text/plain": [
       "                        features\n",
       "ENSG00000243485  ENSG00000243485\n",
       "ENSG00000237613  ENSG00000237613\n",
       "ENSG00000186092  ENSG00000186092\n",
       "ENSG00000238009  ENSG00000238009\n",
       "ENSG00000239945  ENSG00000239945\n",
       "...                          ...\n",
       "ENSG00000277856  ENSG00000277856\n",
       "ENSG00000275063  ENSG00000275063\n",
       "ENSG00000271254  ENSG00000271254\n",
       "ENSG00000277475  ENSG00000277475\n",
       "ENSG00000268674  ENSG00000268674\n",
       "\n",
       "[33694 rows x 1 columns]"
      ]
     },
     "execution_count": 63,
     "metadata": {},
     "output_type": "execute_result"
    }
   ],
   "source": [
    "a.var"
   ]
  },
  {
   "cell_type": "code",
   "execution_count": null,
   "id": "dedfaab4",
   "metadata": {},
   "outputs": [],
   "source": []
  },
  {
   "cell_type": "code",
   "execution_count": null,
   "id": "ccf2363b",
   "metadata": {},
   "outputs": [],
   "source": []
  }
 ],
 "metadata": {
  "kernelspec": {
   "display_name": "Python 3 (ipykernel)",
   "language": "python",
   "name": "python3"
  },
  "language_info": {
   "codemirror_mode": {
    "name": "ipython",
    "version": 3
   },
   "file_extension": ".py",
   "mimetype": "text/x-python",
   "name": "python",
   "nbconvert_exporter": "python",
   "pygments_lexer": "ipython3",
   "version": "3.10.12"
  }
 },
 "nbformat": 4,
 "nbformat_minor": 5
}
